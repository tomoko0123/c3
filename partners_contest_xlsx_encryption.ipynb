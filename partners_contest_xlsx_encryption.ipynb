{
  "cells": [
    {
      "cell_type": "markdown",
      "metadata": {
        "id": "view-in-github",
        "colab_type": "text"
      },
      "source": [
        "<a href=\"https://colab.research.google.com/github/tomoko0123/c3/blob/master/partners_contest_xlsx_encryption.ipynb\" target=\"_parent\"><img src=\"https://colab.research.google.com/assets/colab-badge.svg\" alt=\"Open In Colab\"/></a>"
      ]
    },
    {
      "cell_type": "markdown",
      "metadata": {
        "id": "O03DvTqa-g1z"
      },
      "source": [
        "## エクセルのパスワードロック\n",
        "### 使い方\n",
        "1. driveの指定フォルダにエクセル(.xlsx)を置きます。パスワードはフォルダ名の「~#password.xlsx」のパスワード部分になります。\n",
        "1. 関数を実行します。（Ctrl + F9）\n",
        "1. `INPUT_FOLDER_PATH/ファイル名/参加者データ.xlsx`の名前でパスワード付きエクセルが生成されます。\n",
        "\n",
        "### 環境設定\n",
        "- INPUT_FOLDER_PATH：元ファイルのパス。\n",
        "- OUTPUT_FOLDER_PATH：パスワードロックしたエクセルファイルの出力先\n",
        "\n",
        "### 実装について\n",
        "secure-spreadsheetという、`xlsx-populate`のラッパーライブラリを使っている。\n",
        "\n",
        "https://github.com/ankane/secure-spreadsheet/tree/master"
      ]
    },
    {
      "cell_type": "code",
      "execution_count": 9,
      "metadata": {
        "colab": {
          "base_uri": "https://localhost:8080/"
        },
        "id": "ra7bmw9-1gBb",
        "outputId": "e2efcd3e-0fbd-46fd-d894-555f4e31f042"
      },
      "outputs": [
        {
          "output_type": "stream",
          "name": "stdout",
          "text": [
            "\u001b[K\u001b[?25h\n",
            "added 22 packages, and audited 23 packages in 4s\n",
            "\n",
            "found \u001b[32m\u001b[1m0\u001b[22m\u001b[39m vulnerabilities\n",
            "Requirement already satisfied: openpyxl in /usr/local/lib/python3.10/dist-packages (3.1.5)\n",
            "Requirement already satisfied: et-xmlfile in /usr/local/lib/python3.10/dist-packages (from openpyxl) (1.1.0)\n"
          ]
        }
      ],
      "source": [
        "# secure-spreadsheetの導入\n",
        "!npm install -g secure-spreadsheet\n",
        "\n",
        "# ヘッダ削除のためのライブラリ\n",
        "!pip install openpyxl\n"
      ]
    },
    {
      "cell_type": "code",
      "execution_count": 10,
      "metadata": {
        "id": "TrXbVYii_6py",
        "colab": {
          "base_uri": "https://localhost:8080/"
        },
        "outputId": "23843f40-dc0b-4b64-fbc8-2ba0b11c5572"
      },
      "outputs": [
        {
          "output_type": "stream",
          "name": "stdout",
          "text": [
            "Drive already mounted at /content/drive; to attempt to forcibly remount, call drive.mount(\"/content/drive\", force_remount=True).\n"
          ]
        }
      ],
      "source": [
        "# Googleドライブのマウント\n",
        "from google.colab import drive\n",
        "\n",
        "drive.mount('/content/drive')"
      ]
    },
    {
      "cell_type": "code",
      "source": [
        "from google.colab import drive\n",
        "drive.mount('/content/drive')"
      ],
      "metadata": {
        "colab": {
          "base_uri": "https://localhost:8080/"
        },
        "id": "hMezdurNEX2y",
        "outputId": "71d0c538-352e-4d4f-a7e0-8ba926da7980"
      },
      "execution_count": 6,
      "outputs": [
        {
          "output_type": "stream",
          "name": "stdout",
          "text": [
            "Drive already mounted at /content/drive; to attempt to forcibly remount, call drive.mount(\"/content/drive\", force_remount=True).\n"
          ]
        }
      ]
    },
    {
      "cell_type": "code",
      "execution_count": 13,
      "metadata": {
        "id": "rRmjamsy1-fn",
        "colab": {
          "base_uri": "https://localhost:8080/"
        },
        "outputId": "18d2d3fd-ca1e-4450-c608-88d233b761ea"
      },
      "outputs": [
        {
          "output_type": "stream",
          "name": "stdout",
          "text": [
            "申込データ_2024_ブルグミュラーコンクール 2024 東京11月大会_1004巣鴨1（高校・大人限定）土屋テスト.xlsx\n",
            "/content/drive/Shareddrives/提携コンクール専用ドライブ/77_提携コンクール/【共有】実施事務局用/2024/ブルグミュラーコンクール 2024 東京11月大会/1004巣鴨1（高校・大人限定）土屋テスト/申込データ_2024_ブルグミュラーコンクール 2024 東京11月大会_1004巣鴨1（高校・大人限定）土屋テスト.xlsx\n",
            "Deleteing header row from 2024_ブルグミュラーコンクール 2024 東京11月大会_1004巣鴨1（高校・大人限定）土屋テスト#0339441581.xlsx\n"
          ]
        },
        {
          "output_type": "stream",
          "name": "stderr",
          "text": [
            "/usr/local/lib/python3.10/dist-packages/openpyxl/styles/stylesheet.py:237: UserWarning: Workbook contains no default style, apply openpyxl's default\n",
            "  warn(\"Workbook contains no default style, apply openpyxl's default\")\n"
          ]
        },
        {
          "output_type": "stream",
          "name": "stdout",
          "text": [
            "Encrypting 2024_ブルグミュラーコンクール 2024 東京11月大会_1004巣鴨1（高校・大人限定）土屋テスト#0339441581.xlsx with password 0339441581\n",
            "2024_ブルグミュラーコンクール 2024 東京11月大会_1004巣鴨1（高校・大人限定）土屋テスト#0339441581.xlsx encrypted to /content/drive/Shareddrives/提携コンクール専用ドライブ/77_提携コンクール/【共有】実施事務局用/2024/ブルグミュラーコンクール 2024 東京11月大会/1004巣鴨1（高校・大人限定）土屋テスト/申込データ_2024_ブルグミュラーコンクール 2024 東京11月大会_1004巣鴨1（高校・大人限定）土屋テスト.xlsx\n"
          ]
        }
      ],
      "source": [
        "# https://github.com/ankane/secure-spreadsheet\n",
        "# 特定のディレクトリのxlsxにパスワードをかける\n",
        "import os\n",
        "import subprocess\n",
        "import re\n",
        "import openpyxl\n",
        "\n",
        "# 出力元フォルダの指定。\n",
        "# 共有フォルダのフォルダパス\n",
        "BASE_FOLDER_PATH = \"/content/drive/Shareddrives/提携コンクール専用ドライブ/77_提携コンクール/【共有】実施事務局用\"\n",
        "INPUT_FOLDER_PATH = f\"{BASE_FOLDER_PATH}/参加者データ/元データ\" # e.g.  \"/content/drive/MyDrive/input\"\n",
        "\n",
        "# ================関数定義================\n",
        "# ヘッダ行を削除（FileMakerから書き出す時に重複しているため。）\n",
        "def delete_header_row(input_file_path):\n",
        "    wb = openpyxl.load_workbook(input_file_path)\n",
        "    ws = wb.active\n",
        "    ws.delete_rows(1)\n",
        "    wb.save(input_file_path)\n",
        "\n",
        "def delete_file(file_path):\n",
        "    try:\n",
        "        os.remove(file_path)\n",
        "        return f\"File '{file_path}' deleted successfully!\"\n",
        "    except FileNotFoundError:\n",
        "        return f\"Error: File '{file_path}' not found!\"\n",
        "    except PermissionError:\n",
        "        return f\"Error: Permission denied to delete '{file_path}'!\"\n",
        "    except Exception as e:\n",
        "        return f\"Error: {e}\"\n",
        "\n",
        "# 暗号化\n",
        "def encrypt_file(input_file_path, output_file_path, password):\n",
        "    cat_process = subprocess.Popen([\"cat\", input_file_path], stdout=subprocess.PIPE)\n",
        "\n",
        "    secure_spreadsheet_process = subprocess.Popen(\n",
        "        [\"secure-spreadsheet\", \"--password\", password, \"--input-format\", \"xlsx\"],\n",
        "        stdin=cat_process.stdout,\n",
        "        stdout=subprocess.PIPE,\n",
        "        stderr=subprocess.PIPE\n",
        "    )\n",
        "\n",
        "    with open(output_file_path, \"wb\") as f:\n",
        "        while True:\n",
        "          # 1024byteで区切る\n",
        "            data = secure_spreadsheet_process.stdout.read(1024)\n",
        "            if not data:\n",
        "                break\n",
        "            f.write(data)\n",
        "\n",
        "    cat_process.wait()\n",
        "    secure_spreadsheet_process.wait()\n",
        "    stdout, stderr = secure_spreadsheet_process.communicate()\n",
        "    if stderr:\n",
        "        print(\"Error:\", stderr.decode())\n",
        "\n",
        "def validate_filename_format(filename):\n",
        "    \"\"\"\n",
        "    ファイル名は次の規則に従うこと '<filename>#<password>.xlsx'\n",
        "    \"\"\"\n",
        "    return re.match(r'^(.*)#(.*)\\.xlsx$', filename) is not None\n",
        "# ===================================\n",
        "\n",
        "if not os.path.isdir(INPUT_FOLDER_PATH):\n",
        "    raise FileNotFoundError(f\"フォルダが存在しません。INPUT_FOLDER_PATHが存在するか確認してください。： '{INPUT_FOLDER_PATH}'\")\n",
        "\n",
        "# 先にファイル規則をassertする。\n",
        "for filename in os.listdir(INPUT_FOLDER_PATH):\n",
        "    if filename.endswith('.xlsx') and not validate_filename_format(filename):\n",
        "        raise ValueError(f\"ファイル名「{filename}」が不正です。ファイル名規則： '<filename>#<password>.xlsx'\")\n",
        "\n",
        "for filename in os.listdir(INPUT_FOLDER_PATH):\n",
        "    if filename.endswith('.xlsx'):\n",
        "        # ファイル名のうち、「#」以降をパスワードとする\n",
        "        match = re.match(r'^(.*)#(.*)\\.xlsx$', filename)\n",
        "        if match:\n",
        "            destination = match.group(1).replace(\"_\", \"/\")\n",
        "\n",
        "            # フォルダはファイル名から取る\n",
        "            # フォルダは先にFileMakerで作っておく\n",
        "            OUTPUT_FOLDER_PATH = f\"{BASE_FOLDER_PATH}/{destination}\" # e.g.  \"/content/drive/MyDrive/output\"\n",
        "            if not os.path.exists(OUTPUT_FOLDER_PATH):\n",
        "              raise ValueError(f\"先にフォルダを作成してください。フォルダ名：{OUTPUT_FOLDER_PATH}\")\n",
        "\n",
        "            input_file_path = os.path.join(INPUT_FOLDER_PATH, filename)\n",
        "            output_filename = f\"申込データ_{match.group(1)}.xlsx\"\n",
        "            output_file_path = os.path.join(OUTPUT_FOLDER_PATH, output_filename)\n",
        "            password = match.group(2)\n",
        "\n",
        "            # エクセルのヘッダを削除\n",
        "            print(f\"Deleteing header row from {filename}\")\n",
        "            delete_header_row(input_file_path)\n",
        "\n",
        "            # 暗号化\n",
        "            print(f\"Encrypting {filename} with password {password}\")\n",
        "            encrypt_file(input_file_path, output_file_path, password)\n",
        "            print(f\"{filename} encrypted to {output_file_path}\")\n",
        "\n",
        "            # 元ファイルを削除する。残っていればエラーの可能性あり。\n",
        "            delete_file(input_file_path)\n",
        "\n",
        "        else:\n",
        "            raise ValueError(f\"File {filename} does not match the pattern '<filename>#<password>.xlsx'\")\n"
      ]
    }
  ],
  "metadata": {
    "colab": {
      "provenance": [],
      "include_colab_link": true
    },
    "kernelspec": {
      "display_name": "Python 3",
      "name": "python3"
    },
    "language_info": {
      "name": "python"
    }
  },
  "nbformat": 4,
  "nbformat_minor": 0
}